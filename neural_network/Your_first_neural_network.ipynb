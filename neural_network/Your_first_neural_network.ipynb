{
 "cells": [
  {
   "cell_type": "markdown",
   "metadata": {},
   "source": [
    "# Your first neural network\n",
    "\n",
    "In this project, you'll build your first neural network and use it to predict daily bike rental ridership. We've provided some of the code, but left the implementation of the neural network up to you (for the most part). After you've submitted this project, feel free to explore the data and the model more.\n",
    "\n"
   ]
  },
  {
   "cell_type": "code",
   "execution_count": 168,
   "metadata": {
    "collapsed": false
   },
   "outputs": [
    {
     "name": "stdout",
     "output_type": "stream",
     "text": [
      "The autoreload extension is already loaded. To reload it, use:\n",
      "  %reload_ext autoreload\n"
     ]
    }
   ],
   "source": [
    "%matplotlib inline\n",
    "%load_ext autoreload\n",
    "%autoreload 2\n",
    "%config InlineBackend.figure_format = 'retina'\n",
    "\n",
    "import numpy as np\n",
    "import pandas as pd\n",
    "import matplotlib.pyplot as plt"
   ]
  },
  {
   "cell_type": "markdown",
   "metadata": {},
   "source": [
    "## Load and prepare the data\n",
    "\n",
    "A critical step in working with neural networks is preparing the data correctly. Variables on different scales make it difficult for the network to efficiently learn the correct weights. Below, we've written the code to load and prepare the data. You'll learn more about this soon!"
   ]
  },
  {
   "cell_type": "code",
   "execution_count": 169,
   "metadata": {
    "collapsed": true
   },
   "outputs": [],
   "source": [
    "data_path = 'Bike-Sharing-Dataset/hour.csv'\n",
    "\n",
    "rides = pd.read_csv(data_path)"
   ]
  },
  {
   "cell_type": "code",
   "execution_count": 170,
   "metadata": {
    "collapsed": false
   },
   "outputs": [
    {
     "name": "stdout",
     "output_type": "stream",
     "text": [
      "(17379, 17)\n"
     ]
    },
    {
     "data": {
      "text/html": [
       "<div>\n",
       "<style scoped>\n",
       "    .dataframe tbody tr th:only-of-type {\n",
       "        vertical-align: middle;\n",
       "    }\n",
       "\n",
       "    .dataframe tbody tr th {\n",
       "        vertical-align: top;\n",
       "    }\n",
       "\n",
       "    .dataframe thead th {\n",
       "        text-align: right;\n",
       "    }\n",
       "</style>\n",
       "<table border=\"1\" class=\"dataframe\">\n",
       "  <thead>\n",
       "    <tr style=\"text-align: right;\">\n",
       "      <th></th>\n",
       "      <th>instant</th>\n",
       "      <th>dteday</th>\n",
       "      <th>season</th>\n",
       "      <th>yr</th>\n",
       "      <th>mnth</th>\n",
       "      <th>hr</th>\n",
       "      <th>holiday</th>\n",
       "      <th>weekday</th>\n",
       "      <th>workingday</th>\n",
       "      <th>weathersit</th>\n",
       "      <th>temp</th>\n",
       "      <th>atemp</th>\n",
       "      <th>hum</th>\n",
       "      <th>windspeed</th>\n",
       "      <th>casual</th>\n",
       "      <th>registered</th>\n",
       "      <th>cnt</th>\n",
       "    </tr>\n",
       "  </thead>\n",
       "  <tbody>\n",
       "    <tr>\n",
       "      <th>0</th>\n",
       "      <td>1</td>\n",
       "      <td>2011-01-01</td>\n",
       "      <td>1</td>\n",
       "      <td>0</td>\n",
       "      <td>1</td>\n",
       "      <td>0</td>\n",
       "      <td>0</td>\n",
       "      <td>6</td>\n",
       "      <td>0</td>\n",
       "      <td>1</td>\n",
       "      <td>0.24</td>\n",
       "      <td>0.2879</td>\n",
       "      <td>0.81</td>\n",
       "      <td>0.0</td>\n",
       "      <td>3</td>\n",
       "      <td>13</td>\n",
       "      <td>16</td>\n",
       "    </tr>\n",
       "    <tr>\n",
       "      <th>1</th>\n",
       "      <td>2</td>\n",
       "      <td>2011-01-01</td>\n",
       "      <td>1</td>\n",
       "      <td>0</td>\n",
       "      <td>1</td>\n",
       "      <td>1</td>\n",
       "      <td>0</td>\n",
       "      <td>6</td>\n",
       "      <td>0</td>\n",
       "      <td>1</td>\n",
       "      <td>0.22</td>\n",
       "      <td>0.2727</td>\n",
       "      <td>0.80</td>\n",
       "      <td>0.0</td>\n",
       "      <td>8</td>\n",
       "      <td>32</td>\n",
       "      <td>40</td>\n",
       "    </tr>\n",
       "    <tr>\n",
       "      <th>2</th>\n",
       "      <td>3</td>\n",
       "      <td>2011-01-01</td>\n",
       "      <td>1</td>\n",
       "      <td>0</td>\n",
       "      <td>1</td>\n",
       "      <td>2</td>\n",
       "      <td>0</td>\n",
       "      <td>6</td>\n",
       "      <td>0</td>\n",
       "      <td>1</td>\n",
       "      <td>0.22</td>\n",
       "      <td>0.2727</td>\n",
       "      <td>0.80</td>\n",
       "      <td>0.0</td>\n",
       "      <td>5</td>\n",
       "      <td>27</td>\n",
       "      <td>32</td>\n",
       "    </tr>\n",
       "    <tr>\n",
       "      <th>3</th>\n",
       "      <td>4</td>\n",
       "      <td>2011-01-01</td>\n",
       "      <td>1</td>\n",
       "      <td>0</td>\n",
       "      <td>1</td>\n",
       "      <td>3</td>\n",
       "      <td>0</td>\n",
       "      <td>6</td>\n",
       "      <td>0</td>\n",
       "      <td>1</td>\n",
       "      <td>0.24</td>\n",
       "      <td>0.2879</td>\n",
       "      <td>0.75</td>\n",
       "      <td>0.0</td>\n",
       "      <td>3</td>\n",
       "      <td>10</td>\n",
       "      <td>13</td>\n",
       "    </tr>\n",
       "    <tr>\n",
       "      <th>4</th>\n",
       "      <td>5</td>\n",
       "      <td>2011-01-01</td>\n",
       "      <td>1</td>\n",
       "      <td>0</td>\n",
       "      <td>1</td>\n",
       "      <td>4</td>\n",
       "      <td>0</td>\n",
       "      <td>6</td>\n",
       "      <td>0</td>\n",
       "      <td>1</td>\n",
       "      <td>0.24</td>\n",
       "      <td>0.2879</td>\n",
       "      <td>0.75</td>\n",
       "      <td>0.0</td>\n",
       "      <td>0</td>\n",
       "      <td>1</td>\n",
       "      <td>1</td>\n",
       "    </tr>\n",
       "  </tbody>\n",
       "</table>\n",
       "</div>"
      ],
      "text/plain": [
       "   instant      dteday  season  yr  mnth  hr  holiday  weekday  workingday  \\\n",
       "0        1  2011-01-01       1   0     1   0        0        6           0   \n",
       "1        2  2011-01-01       1   0     1   1        0        6           0   \n",
       "2        3  2011-01-01       1   0     1   2        0        6           0   \n",
       "3        4  2011-01-01       1   0     1   3        0        6           0   \n",
       "4        5  2011-01-01       1   0     1   4        0        6           0   \n",
       "\n",
       "   weathersit  temp   atemp   hum  windspeed  casual  registered  cnt  \n",
       "0           1  0.24  0.2879  0.81        0.0       3          13   16  \n",
       "1           1  0.22  0.2727  0.80        0.0       8          32   40  \n",
       "2           1  0.22  0.2727  0.80        0.0       5          27   32  \n",
       "3           1  0.24  0.2879  0.75        0.0       3          10   13  \n",
       "4           1  0.24  0.2879  0.75        0.0       0           1    1  "
      ]
     },
     "execution_count": 170,
     "metadata": {},
     "output_type": "execute_result"
    }
   ],
   "source": [
    "print(rides.shape)\n",
    "rides.head()\n",
    "#print(rides.shape)\n",
    "#rides.dtypes.index"
   ]
  },
  {
   "cell_type": "code",
   "execution_count": 171,
   "metadata": {
    "collapsed": false
   },
   "outputs": [
    {
     "name": "stdout",
     "output_type": "stream",
     "text": [
      "0    16879\n",
      "1      500\n",
      "Name: holiday, dtype: int64\n",
      "1    11413\n",
      "2     4544\n",
      "3     1419\n",
      "4        3\n",
      "Name: weathersit, dtype: int64\n"
     ]
    }
   ],
   "source": [
    "print(rides['holiday'].value_counts(sort=True))\n",
    "print(rides['weathersit'].value_counts(sort=True))"
   ]
  },
  {
   "cell_type": "markdown",
   "metadata": {},
   "source": [
    "## Checking out the data\n",
    "\n",
    "This dataset has the number of riders for each hour of each day from January 1 2011 to December 31 2012. The number of riders is split between casual and registered, summed up in the `cnt` column. You can see the first few rows of the data above.\n",
    "\n",
    "Below is a plot showing the number of bike riders over the first 10 days or so in the data set. (Some days don't have exactly 24 entries in the data set, so it's not exactly 10 days.) You can see the hourly rentals here. This data is pretty complicated! The weekends have lower over all ridership and there are spikes when people are biking to and from work during the week. Looking at the data above, we also have information about temperature, humidity, and windspeed, all of these likely affecting the number of riders. You'll be trying to capture all this with your model."
   ]
  },
  {
   "cell_type": "code",
   "execution_count": 172,
   "metadata": {
    "collapsed": false
   },
   "outputs": [
    {
     "data": {
      "text/plain": [
       "<matplotlib.axes._subplots.AxesSubplot at 0x1a1c89f550>"
      ]
     },
     "execution_count": 172,
     "metadata": {},
     "output_type": "execute_result"
    },
    {
     "data": {
      "image/png": "[encoded data removed]",
      "text/plain": [
       "<Figure size 432x288 with 1 Axes>"
      ]
     },
     "metadata": {
      "image/png": {
       "height": 254,
       "width": 377
      },
      "needs_background": "light"
     },
     "output_type": "display_data"
    }
   ],
   "source": [
    "rides[:24*10].plot(x='dteday', y='cnt')"
   ]
  },
  {
   "cell_type": "code",
   "execution_count": 173,
   "metadata": {
    "collapsed": false
   },
   "outputs": [
    {
     "data": {
      "text/plain": [
       "<matplotlib.axes._subplots.AxesSubplot at 0x1a1cd44b70>"
      ]
     },
     "execution_count": 173,
     "metadata": {},
     "output_type": "execute_result"
    },
    {
     "data": {
      "image/png": "[encoded data removed]",
      "text/plain": [
       "<Figure size 432x288 with 1 Axes>"
      ]
     },
     "metadata": {
      "image/png": {
       "height": 263,
       "width": 409
      },
      "needs_background": "light"
     },
     "output_type": "display_data"
    }
   ],
   "source": [
    "import seaborn as sns\n",
    "r =rides[:10*24].groupby(['dteday'])[['cnt']].sum()\n",
    "ri=r.reset_index()\n",
    "sns.lineplot(x=\"dteday\", y=\"cnt\", data = ri)"
   ]
  },
  {
   "cell_type": "markdown",
   "metadata": {},
   "source": [
    "### Dummy variables\n",
    "Here we have some categorical variables like season, weather, month. To include these in our model, we'll need to make binary dummy variables. This is simple to do with Pandas thanks to `get_dummies()`."
   ]
  },
  {
   "cell_type": "code",
   "execution_count": 174,
   "metadata": {
    "collapsed": false
   },
   "outputs": [
    {
     "name": "stdout",
     "output_type": "stream",
     "text": [
      "(17379, 59)\n"
     ]
    },
    {
     "data": {
      "text/html": [
       "<div>\n",
       "<style scoped>\n",
       "    .dataframe tbody tr th:only-of-type {\n",
       "        vertical-align: middle;\n",
       "    }\n",
       "\n",
       "    .dataframe tbody tr th {\n",
       "        vertical-align: top;\n",
       "    }\n",
       "\n",
       "    .dataframe thead th {\n",
       "        text-align: right;\n",
       "    }\n",
       "</style>\n",
       "<table border=\"1\" class=\"dataframe\">\n",
       "  <thead>\n",
       "    <tr style=\"text-align: right;\">\n",
       "      <th></th>\n",
       "      <th>yr</th>\n",
       "      <th>holiday</th>\n",
       "      <th>temp</th>\n",
       "      <th>hum</th>\n",
       "      <th>windspeed</th>\n",
       "      <th>casual</th>\n",
       "      <th>registered</th>\n",
       "      <th>cnt</th>\n",
       "      <th>season_1</th>\n",
       "      <th>season_2</th>\n",
       "      <th>...</th>\n",
       "      <th>hr_21</th>\n",
       "      <th>hr_22</th>\n",
       "      <th>hr_23</th>\n",
       "      <th>weekday_0</th>\n",
       "      <th>weekday_1</th>\n",
       "      <th>weekday_2</th>\n",
       "      <th>weekday_3</th>\n",
       "      <th>weekday_4</th>\n",
       "      <th>weekday_5</th>\n",
       "      <th>weekday_6</th>\n",
       "    </tr>\n",
       "  </thead>\n",
       "  <tbody>\n",
       "    <tr>\n",
       "      <th>0</th>\n",
       "      <td>0</td>\n",
       "      <td>0</td>\n",
       "      <td>0.24</td>\n",
       "      <td>0.81</td>\n",
       "      <td>0.0</td>\n",
       "      <td>3</td>\n",
       "      <td>13</td>\n",
       "      <td>16</td>\n",
       "      <td>1</td>\n",
       "      <td>0</td>\n",
       "      <td>...</td>\n",
       "      <td>0</td>\n",
       "      <td>0</td>\n",
       "      <td>0</td>\n",
       "      <td>0</td>\n",
       "      <td>0</td>\n",
       "      <td>0</td>\n",
       "      <td>0</td>\n",
       "      <td>0</td>\n",
       "      <td>0</td>\n",
       "      <td>1</td>\n",
       "    </tr>\n",
       "    <tr>\n",
       "      <th>1</th>\n",
       "      <td>0</td>\n",
       "      <td>0</td>\n",
       "      <td>0.22</td>\n",
       "      <td>0.80</td>\n",
       "      <td>0.0</td>\n",
       "      <td>8</td>\n",
       "      <td>32</td>\n",
       "      <td>40</td>\n",
       "      <td>1</td>\n",
       "      <td>0</td>\n",
       "      <td>...</td>\n",
       "      <td>0</td>\n",
       "      <td>0</td>\n",
       "      <td>0</td>\n",
       "      <td>0</td>\n",
       "      <td>0</td>\n",
       "      <td>0</td>\n",
       "      <td>0</td>\n",
       "      <td>0</td>\n",
       "      <td>0</td>\n",
       "      <td>1</td>\n",
       "    </tr>\n",
       "    <tr>\n",
       "      <th>2</th>\n",
       "      <td>0</td>\n",
       "      <td>0</td>\n",
       "      <td>0.22</td>\n",
       "      <td>0.80</td>\n",
       "      <td>0.0</td>\n",
       "      <td>5</td>\n",
       "      <td>27</td>\n",
       "      <td>32</td>\n",
       "      <td>1</td>\n",
       "      <td>0</td>\n",
       "      <td>...</td>\n",
       "      <td>0</td>\n",
       "      <td>0</td>\n",
       "      <td>0</td>\n",
       "      <td>0</td>\n",
       "      <td>0</td>\n",
       "      <td>0</td>\n",
       "      <td>0</td>\n",
       "      <td>0</td>\n",
       "      <td>0</td>\n",
       "      <td>1</td>\n",
       "    </tr>\n",
       "    <tr>\n",
       "      <th>3</th>\n",
       "      <td>0</td>\n",
       "      <td>0</td>\n",
       "      <td>0.24</td>\n",
       "      <td>0.75</td>\n",
       "      <td>0.0</td>\n",
       "      <td>3</td>\n",
       "      <td>10</td>\n",
       "      <td>13</td>\n",
       "      <td>1</td>\n",
       "      <td>0</td>\n",
       "      <td>...</td>\n",
       "      <td>0</td>\n",
       "      <td>0</td>\n",
       "      <td>0</td>\n",
       "      <td>0</td>\n",
       "      <td>0</td>\n",
       "      <td>0</td>\n",
       "      <td>0</td>\n",
       "      <td>0</td>\n",
       "      <td>0</td>\n",
       "      <td>1</td>\n",
       "    </tr>\n",
       "    <tr>\n",
       "      <th>4</th>\n",
       "      <td>0</td>\n",
       "      <td>0</td>\n",
       "      <td>0.24</td>\n",
       "      <td>0.75</td>\n",
       "      <td>0.0</td>\n",
       "      <td>0</td>\n",
       "      <td>1</td>\n",
       "      <td>1</td>\n",
       "      <td>1</td>\n",
       "      <td>0</td>\n",
       "      <td>...</td>\n",
       "      <td>0</td>\n",
       "      <td>0</td>\n",
       "      <td>0</td>\n",
       "      <td>0</td>\n",
       "      <td>0</td>\n",
       "      <td>0</td>\n",
       "      <td>0</td>\n",
       "      <td>0</td>\n",
       "      <td>0</td>\n",
       "      <td>1</td>\n",
       "    </tr>\n",
       "  </tbody>\n",
       "</table>\n",
       "<p>5 rows × 59 columns</p>\n",
       "</div>"
      ],
      "text/plain": [
       "   yr  holiday  temp   hum  windspeed  casual  registered  cnt  season_1  \\\n",
       "0   0        0  0.24  0.81        0.0       3          13   16         1   \n",
       "1   0        0  0.22  0.80        0.0       8          32   40         1   \n",
       "2   0        0  0.22  0.80        0.0       5          27   32         1   \n",
       "3   0        0  0.24  0.75        0.0       3          10   13         1   \n",
       "4   0        0  0.24  0.75        0.0       0           1    1         1   \n",
       "\n",
       "   season_2    ...      hr_21  hr_22  hr_23  weekday_0  weekday_1  weekday_2  \\\n",
       "0         0    ...          0      0      0          0          0          0   \n",
       "1         0    ...          0      0      0          0          0          0   \n",
       "2         0    ...          0      0      0          0          0          0   \n",
       "3         0    ...          0      0      0          0          0          0   \n",
       "4         0    ...          0      0      0          0          0          0   \n",
       "\n",
       "   weekday_3  weekday_4  weekday_5  weekday_6  \n",
       "0          0          0          0          1  \n",
       "1          0          0          0          1  \n",
       "2          0          0          0          1  \n",
       "3          0          0          0          1  \n",
       "4          0          0          0          1  \n",
       "\n",
       "[5 rows x 59 columns]"
      ]
     },
     "execution_count": 174,
     "metadata": {},
     "output_type": "execute_result"
    }
   ],
   "source": [
    "dummy_fields = ['season', 'weathersit', 'mnth', 'hr', 'weekday']\n",
    "for each in dummy_fields:\n",
    "    dummies = pd.get_dummies(rides[each], prefix=each, drop_first=False)\n",
    "    rides = pd.concat([rides, dummies], axis=1)\n",
    "\n",
    "fields_to_drop = ['instant', 'dteday', 'season', 'weathersit', \n",
    "                  'weekday', 'atemp', 'mnth', 'workingday', 'hr']\n",
    "data = rides.drop(fields_to_drop, axis=1)\n",
    "print(data.shape)\n",
    "data.head()\n",
    "#data.dtypes.index\n",
    "#list(data.head(0))"
   ]
  },
  {
   "cell_type": "code",
   "execution_count": 175,
   "metadata": {
    "collapsed": false
   },
   "outputs": [
    {
     "data": {
      "text/plain": [
       "(17379, 59)"
      ]
     },
     "execution_count": 175,
     "metadata": {},
     "output_type": "execute_result"
    }
   ],
   "source": [
    "data.shape"
   ]
  },
  {
   "cell_type": "code",
   "execution_count": 176,
   "metadata": {
    "collapsed": false
   },
   "outputs": [
    {
     "name": "stdout",
     "output_type": "stream",
     "text": [
      "yr\n",
      "holiday\n",
      "temp\n",
      "hum\n",
      "windspeed\n",
      "casual\n",
      "registered\n",
      "cnt\n",
      "season_1\n",
      "season_2\n",
      "season_3\n",
      "season_4\n",
      "weathersit_1\n",
      "weathersit_2\n",
      "weathersit_3\n",
      "weathersit_4\n",
      "mnth_1\n",
      "mnth_2\n",
      "mnth_3\n",
      "mnth_4\n",
      "mnth_5\n",
      "mnth_6\n",
      "mnth_7\n",
      "mnth_8\n",
      "mnth_9\n",
      "mnth_10\n",
      "mnth_11\n",
      "mnth_12\n",
      "hr_0\n",
      "hr_1\n",
      "hr_2\n",
      "hr_3\n",
      "hr_4\n",
      "hr_5\n",
      "hr_6\n",
      "hr_7\n",
      "hr_8\n",
      "hr_9\n",
      "hr_10\n",
      "hr_11\n",
      "hr_12\n",
      "hr_13\n",
      "hr_14\n",
      "hr_15\n",
      "hr_16\n",
      "hr_17\n",
      "hr_18\n",
      "hr_19\n",
      "hr_20\n",
      "hr_21\n",
      "hr_22\n",
      "hr_23\n",
      "weekday_0\n",
      "weekday_1\n",
      "weekday_2\n",
      "weekday_3\n",
      "weekday_4\n",
      "weekday_5\n",
      "weekday_6\n"
     ]
    }
   ],
   "source": [
    "for s in data.columns:\n",
    "    print(s)"
   ]
  },
  {
   "cell_type": "markdown",
   "metadata": {},
   "source": [
    "### Scaling target variables\n",
    "To make training the network easier, we'll standardize each of the continuous variables. That is, we'll shift and scale the variables such that they have zero mean and a standard deviation of 1.\n",
    "\n",
    "The scaling factors are saved so we can go backwards when we use the network for predictions."
   ]
  },
  {
   "cell_type": "code",
   "execution_count": 177,
   "metadata": {
    "collapsed": true
   },
   "outputs": [],
   "source": [
    "quant_features = ['casual', 'registered', 'cnt', 'temp', 'hum', 'windspeed']\n",
    "# Store scalings in a dictionary so we can convert back later\n",
    "scaled_features = {}\n",
    "for each in quant_features:\n",
    "    mean, std = data[each].mean(), data[each].std()\n",
    "    scaled_features[each] = [mean, std]\n",
    "    data.loc[:, each] = (data[each] - mean)/std"
   ]
  },
  {
   "cell_type": "code",
   "execution_count": 178,
   "metadata": {
    "collapsed": false
   },
   "outputs": [
    {
     "name": "stdout",
     "output_type": "stream",
     "text": [
      "{'temp': [0.4969871684216583, 0.1925561212497219], 'cnt': [189.46308763450142, 181.38759909186473], 'casual': [35.67621842453536, 49.30503038705308], 'windspeed': [0.1900976063064618, 0.12234022857279049], 'registered': [153.78686920996606, 151.35728591258314], 'hum': [0.6272288394038783, 0.19292983406291508]}\n"
     ]
    }
   ],
   "source": [
    "print(scaled_features)"
   ]
  },
  {
   "cell_type": "code",
   "execution_count": 179,
   "metadata": {
    "collapsed": false
   },
   "outputs": [
    {
     "data": {
      "text/html": [
       "<div>\n",
       "<style scoped>\n",
       "    .dataframe tbody tr th:only-of-type {\n",
       "        vertical-align: middle;\n",
       "    }\n",
       "\n",
       "    .dataframe tbody tr th {\n",
       "        vertical-align: top;\n",
       "    }\n",
       "\n",
       "    .dataframe thead th {\n",
       "        text-align: right;\n",
       "    }\n",
       "</style>\n",
       "<table border=\"1\" class=\"dataframe\">\n",
       "  <thead>\n",
       "    <tr style=\"text-align: right;\">\n",
       "      <th></th>\n",
       "      <th>yr</th>\n",
       "      <th>holiday</th>\n",
       "      <th>temp</th>\n",
       "      <th>hum</th>\n",
       "      <th>windspeed</th>\n",
       "      <th>casual</th>\n",
       "      <th>registered</th>\n",
       "      <th>cnt</th>\n",
       "      <th>season_1</th>\n",
       "      <th>season_2</th>\n",
       "      <th>...</th>\n",
       "      <th>hr_21</th>\n",
       "      <th>hr_22</th>\n",
       "      <th>hr_23</th>\n",
       "      <th>weekday_0</th>\n",
       "      <th>weekday_1</th>\n",
       "      <th>weekday_2</th>\n",
       "      <th>weekday_3</th>\n",
       "      <th>weekday_4</th>\n",
       "      <th>weekday_5</th>\n",
       "      <th>weekday_6</th>\n",
       "    </tr>\n",
       "  </thead>\n",
       "  <tbody>\n",
       "    <tr>\n",
       "      <th>count</th>\n",
       "      <td>17379.000000</td>\n",
       "      <td>17379.000000</td>\n",
       "      <td>1.737900e+04</td>\n",
       "      <td>1.737900e+04</td>\n",
       "      <td>1.737900e+04</td>\n",
       "      <td>1.737900e+04</td>\n",
       "      <td>1.737900e+04</td>\n",
       "      <td>1.737900e+04</td>\n",
       "      <td>17379.000000</td>\n",
       "      <td>17379.000000</td>\n",
       "      <td>...</td>\n",
       "      <td>17379.000000</td>\n",
       "      <td>17379.000000</td>\n",
       "      <td>17379.000000</td>\n",
       "      <td>17379.000000</td>\n",
       "      <td>17379.000000</td>\n",
       "      <td>17379.000000</td>\n",
       "      <td>17379.000000</td>\n",
       "      <td>17379.000000</td>\n",
       "      <td>17379.000000</td>\n",
       "      <td>17379.000000</td>\n",
       "    </tr>\n",
       "    <tr>\n",
       "      <th>mean</th>\n",
       "      <td>0.502561</td>\n",
       "      <td>0.028770</td>\n",
       "      <td>6.541621e-17</td>\n",
       "      <td>-2.992792e-16</td>\n",
       "      <td>1.390095e-16</td>\n",
       "      <td>3.270811e-17</td>\n",
       "      <td>-5.805689e-17</td>\n",
       "      <td>-9.321810e-17</td>\n",
       "      <td>0.244088</td>\n",
       "      <td>0.253697</td>\n",
       "      <td>...</td>\n",
       "      <td>0.041890</td>\n",
       "      <td>0.041890</td>\n",
       "      <td>0.041890</td>\n",
       "      <td>0.143967</td>\n",
       "      <td>0.142643</td>\n",
       "      <td>0.141147</td>\n",
       "      <td>0.142413</td>\n",
       "      <td>0.142183</td>\n",
       "      <td>0.143104</td>\n",
       "      <td>0.144542</td>\n",
       "    </tr>\n",
       "    <tr>\n",
       "      <th>std</th>\n",
       "      <td>0.500008</td>\n",
       "      <td>0.167165</td>\n",
       "      <td>1.000000e+00</td>\n",
       "      <td>1.000000e+00</td>\n",
       "      <td>1.000000e+00</td>\n",
       "      <td>1.000000e+00</td>\n",
       "      <td>1.000000e+00</td>\n",
       "      <td>1.000000e+00</td>\n",
       "      <td>0.429557</td>\n",
       "      <td>0.435139</td>\n",
       "      <td>...</td>\n",
       "      <td>0.200343</td>\n",
       "      <td>0.200343</td>\n",
       "      <td>0.200343</td>\n",
       "      <td>0.351066</td>\n",
       "      <td>0.349719</td>\n",
       "      <td>0.348184</td>\n",
       "      <td>0.349484</td>\n",
       "      <td>0.349248</td>\n",
       "      <td>0.350189</td>\n",
       "      <td>0.351649</td>\n",
       "    </tr>\n",
       "    <tr>\n",
       "      <th>min</th>\n",
       "      <td>0.000000</td>\n",
       "      <td>0.000000</td>\n",
       "      <td>-2.477133e+00</td>\n",
       "      <td>-3.251072e+00</td>\n",
       "      <td>-1.553844e+00</td>\n",
       "      <td>-7.235817e-01</td>\n",
       "      <td>-1.016052e+00</td>\n",
       "      <td>-1.039008e+00</td>\n",
       "      <td>0.000000</td>\n",
       "      <td>0.000000</td>\n",
       "      <td>...</td>\n",
       "      <td>0.000000</td>\n",
       "      <td>0.000000</td>\n",
       "      <td>0.000000</td>\n",
       "      <td>0.000000</td>\n",
       "      <td>0.000000</td>\n",
       "      <td>0.000000</td>\n",
       "      <td>0.000000</td>\n",
       "      <td>0.000000</td>\n",
       "      <td>0.000000</td>\n",
       "      <td>0.000000</td>\n",
       "    </tr>\n",
       "    <tr>\n",
       "      <th>25%</th>\n",
       "      <td>0.000000</td>\n",
       "      <td>0.000000</td>\n",
       "      <td>-8.152801e-01</td>\n",
       "      <td>-7.631212e-01</td>\n",
       "      <td>-6.996685e-01</td>\n",
       "      <td>-6.424541e-01</td>\n",
       "      <td>-7.914179e-01</td>\n",
       "      <td>-8.239984e-01</td>\n",
       "      <td>0.000000</td>\n",
       "      <td>0.000000</td>\n",
       "      <td>...</td>\n",
       "      <td>0.000000</td>\n",
       "      <td>0.000000</td>\n",
       "      <td>0.000000</td>\n",
       "      <td>0.000000</td>\n",
       "      <td>0.000000</td>\n",
       "      <td>0.000000</td>\n",
       "      <td>0.000000</td>\n",
       "      <td>0.000000</td>\n",
       "      <td>0.000000</td>\n",
       "      <td>0.000000</td>\n",
       "    </tr>\n",
       "    <tr>\n",
       "      <th>50%</th>\n",
       "      <td>1.000000</td>\n",
       "      <td>0.000000</td>\n",
       "      <td>1.564651e-02</td>\n",
       "      <td>1.436357e-02</td>\n",
       "      <td>3.189788e-02</td>\n",
       "      <td>-3.787893e-01</td>\n",
       "      <td>-2.562603e-01</td>\n",
       "      <td>-2.616667e-01</td>\n",
       "      <td>0.000000</td>\n",
       "      <td>0.000000</td>\n",
       "      <td>...</td>\n",
       "      <td>0.000000</td>\n",
       "      <td>0.000000</td>\n",
       "      <td>0.000000</td>\n",
       "      <td>0.000000</td>\n",
       "      <td>0.000000</td>\n",
       "      <td>0.000000</td>\n",
       "      <td>0.000000</td>\n",
       "      <td>0.000000</td>\n",
       "      <td>0.000000</td>\n",
       "      <td>0.000000</td>\n",
       "    </tr>\n",
       "    <tr>\n",
       "      <th>75%</th>\n",
       "      <td>1.000000</td>\n",
       "      <td>0.000000</td>\n",
       "      <td>8.465731e-01</td>\n",
       "      <td>7.918483e-01</td>\n",
       "      <td>5.198813e-01</td>\n",
       "      <td>2.499498e-01</td>\n",
       "      <td>4.374625e-01</td>\n",
       "      <td>5.046481e-01</td>\n",
       "      <td>0.000000</td>\n",
       "      <td>1.000000</td>\n",
       "      <td>...</td>\n",
       "      <td>0.000000</td>\n",
       "      <td>0.000000</td>\n",
       "      <td>0.000000</td>\n",
       "      <td>0.000000</td>\n",
       "      <td>0.000000</td>\n",
       "      <td>0.000000</td>\n",
       "      <td>0.000000</td>\n",
       "      <td>0.000000</td>\n",
       "      <td>0.000000</td>\n",
       "      <td>0.000000</td>\n",
       "    </tr>\n",
       "    <tr>\n",
       "      <th>max</th>\n",
       "      <td>1.000000</td>\n",
       "      <td>1.000000</td>\n",
       "      <td>2.612292e+00</td>\n",
       "      <td>1.932159e+00</td>\n",
       "      <td>5.399715e+00</td>\n",
       "      <td>6.719878e+00</td>\n",
       "      <td>4.837647e+00</td>\n",
       "      <td>4.341735e+00</td>\n",
       "      <td>1.000000</td>\n",
       "      <td>1.000000</td>\n",
       "      <td>...</td>\n",
       "      <td>1.000000</td>\n",
       "      <td>1.000000</td>\n",
       "      <td>1.000000</td>\n",
       "      <td>1.000000</td>\n",
       "      <td>1.000000</td>\n",
       "      <td>1.000000</td>\n",
       "      <td>1.000000</td>\n",
       "      <td>1.000000</td>\n",
       "      <td>1.000000</td>\n",
       "      <td>1.000000</td>\n",
       "    </tr>\n",
       "  </tbody>\n",
       "</table>\n",
       "<p>8 rows × 59 columns</p>\n",
       "</div>"
      ],
      "text/plain": [
       "                 yr       holiday          temp           hum     windspeed  \\\n",
       "count  17379.000000  17379.000000  1.737900e+04  1.737900e+04  1.737900e+04   \n",
       "mean       0.502561      0.028770  6.541621e-17 -2.992792e-16  1.390095e-16   \n",
       "std        0.500008      0.167165  1.000000e+00  1.000000e+00  1.000000e+00   \n",
       "min        0.000000      0.000000 -2.477133e+00 -3.251072e+00 -1.553844e+00   \n",
       "25%        0.000000      0.000000 -8.152801e-01 -7.631212e-01 -6.996685e-01   \n",
       "50%        1.000000      0.000000  1.564651e-02  1.436357e-02  3.189788e-02   \n",
       "75%        1.000000      0.000000  8.465731e-01  7.918483e-01  5.198813e-01   \n",
       "max        1.000000      1.000000  2.612292e+00  1.932159e+00  5.399715e+00   \n",
       "\n",
       "             casual    registered           cnt      season_1      season_2  \\\n",
       "count  1.737900e+04  1.737900e+04  1.737900e+04  17379.000000  17379.000000   \n",
       "mean   3.270811e-17 -5.805689e-17 -9.321810e-17      0.244088      0.253697   \n",
       "std    1.000000e+00  1.000000e+00  1.000000e+00      0.429557      0.435139   \n",
       "min   -7.235817e-01 -1.016052e+00 -1.039008e+00      0.000000      0.000000   \n",
       "25%   -6.424541e-01 -7.914179e-01 -8.239984e-01      0.000000      0.000000   \n",
       "50%   -3.787893e-01 -2.562603e-01 -2.616667e-01      0.000000      0.000000   \n",
       "75%    2.499498e-01  4.374625e-01  5.046481e-01      0.000000      1.000000   \n",
       "max    6.719878e+00  4.837647e+00  4.341735e+00      1.000000      1.000000   \n",
       "\n",
       "           ...              hr_21         hr_22         hr_23     weekday_0  \\\n",
       "count      ...       17379.000000  17379.000000  17379.000000  17379.000000   \n",
       "mean       ...           0.041890      0.041890      0.041890      0.143967   \n",
       "std        ...           0.200343      0.200343      0.200343      0.351066   \n",
       "min        ...           0.000000      0.000000      0.000000      0.000000   \n",
       "25%        ...           0.000000      0.000000      0.000000      0.000000   \n",
       "50%        ...           0.000000      0.000000      0.000000      0.000000   \n",
       "75%        ...           0.000000      0.000000      0.000000      0.000000   \n",
       "max        ...           1.000000      1.000000      1.000000      1.000000   \n",
       "\n",
       "          weekday_1     weekday_2     weekday_3     weekday_4     weekday_5  \\\n",
       "count  17379.000000  17379.000000  17379.000000  17379.000000  17379.000000   \n",
       "mean       0.142643      0.141147      0.142413      0.142183      0.143104   \n",
       "std        0.349719      0.348184      0.349484      0.349248      0.350189   \n",
       "min        0.000000      0.000000      0.000000      0.000000      0.000000   \n",
       "25%        0.000000      0.000000      0.000000      0.000000      0.000000   \n",
       "50%        0.000000      0.000000      0.000000      0.000000      0.000000   \n",
       "75%        0.000000      0.000000      0.000000      0.000000      0.000000   \n",
       "max        1.000000      1.000000      1.000000      1.000000      1.000000   \n",
       "\n",
       "          weekday_6  \n",
       "count  17379.000000  \n",
       "mean       0.144542  \n",
       "std        0.351649  \n",
       "min        0.000000  \n",
       "25%        0.000000  \n",
       "50%        0.000000  \n",
       "75%        0.000000  \n",
       "max        1.000000  \n",
       "\n",
       "[8 rows x 59 columns]"
      ]
     },
     "execution_count": 179,
     "metadata": {},
     "output_type": "execute_result"
    }
   ],
   "source": [
    "data.describe()"
   ]
  },
  {
   "cell_type": "markdown",
   "metadata": {},
   "source": [
    "### Splitting the data into training, testing, and validation sets\n",
    "\n",
    "We'll save the data for the last approximately 21 days to use as a test set after we've trained the network. We'll use this set to make predictions and compare them with the actual number of riders."
   ]
  },
  {
   "cell_type": "code",
   "execution_count": 180,
   "metadata": {
    "collapsed": true
   },
   "outputs": [],
   "source": [
    "# Save data for approximately the last 21 days \n",
    "test_data = data[-21*24:]\n",
    "\n",
    "# Now remove the test data from the data set \n",
    "data = data[:-21*24]\n",
    "\n",
    "# Separate the data into features and targets\n",
    "target_fields = ['cnt', 'casual', 'registered']\n",
    "features, targets = data.drop(target_fields, axis=1), data[target_fields]\n",
    "test_features, test_targets = test_data.drop(target_fields, axis=1), test_data[target_fields]"
   ]
  },
  {
   "cell_type": "markdown",
   "metadata": {},
   "source": [
    "We'll split the data into two sets, one for training and one for validating as the network is being trained. Since this is time series data, we'll train on historical data, then try to predict on future data (the validation set)."
   ]
  },
  {
   "cell_type": "code",
   "execution_count": 181,
   "metadata": {
    "collapsed": false
   },
   "outputs": [
    {
     "name": "stdout",
     "output_type": "stream",
     "text": [
      "(16875, 59)\n",
      "(504, 59)\n",
      "(16875, 56)\n",
      "(16875, 3)\n",
      "(504, 56)\n",
      "(504, 3)\n"
     ]
    }
   ],
   "source": [
    "print(data.shape)\n",
    "print(test_data.shape)\n",
    "print(features.shape)\n",
    "print(targets.shape)\n",
    "print(test_features.shape)\n",
    "print(test_targets.shape)"
   ]
  },
  {
   "cell_type": "code",
   "execution_count": 182,
   "metadata": {
    "collapsed": false
   },
   "outputs": [
    {
     "data": {
      "text/html": [
       "<div>\n",
       "<style scoped>\n",
       "    .dataframe tbody tr th:only-of-type {\n",
       "        vertical-align: middle;\n",
       "    }\n",
       "\n",
       "    .dataframe tbody tr th {\n",
       "        vertical-align: top;\n",
       "    }\n",
       "\n",
       "    .dataframe thead th {\n",
       "        text-align: right;\n",
       "    }\n",
       "</style>\n",
       "<table border=\"1\" class=\"dataframe\">\n",
       "  <thead>\n",
       "    <tr style=\"text-align: right;\">\n",
       "      <th></th>\n",
       "      <th>cnt</th>\n",
       "      <th>casual</th>\n",
       "      <th>registered</th>\n",
       "    </tr>\n",
       "  </thead>\n",
       "  <tbody>\n",
       "    <tr>\n",
       "      <th>0</th>\n",
       "      <td>-0.956312</td>\n",
       "      <td>-0.662736</td>\n",
       "      <td>-0.930162</td>\n",
       "    </tr>\n",
       "    <tr>\n",
       "      <th>1</th>\n",
       "      <td>-0.823998</td>\n",
       "      <td>-0.561326</td>\n",
       "      <td>-0.804632</td>\n",
       "    </tr>\n",
       "    <tr>\n",
       "      <th>2</th>\n",
       "      <td>-0.868103</td>\n",
       "      <td>-0.622172</td>\n",
       "      <td>-0.837666</td>\n",
       "    </tr>\n",
       "    <tr>\n",
       "      <th>3</th>\n",
       "      <td>-0.972851</td>\n",
       "      <td>-0.662736</td>\n",
       "      <td>-0.949983</td>\n",
       "    </tr>\n",
       "    <tr>\n",
       "      <th>4</th>\n",
       "      <td>-1.039008</td>\n",
       "      <td>-0.723582</td>\n",
       "      <td>-1.009445</td>\n",
       "    </tr>\n",
       "    <tr>\n",
       "      <th>5</th>\n",
       "      <td>-1.039008</td>\n",
       "      <td>-0.723582</td>\n",
       "      <td>-1.009445</td>\n",
       "    </tr>\n",
       "    <tr>\n",
       "      <th>6</th>\n",
       "      <td>-1.033495</td>\n",
       "      <td>-0.683018</td>\n",
       "      <td>-1.016052</td>\n",
       "    </tr>\n",
       "    <tr>\n",
       "      <th>7</th>\n",
       "      <td>-1.027981</td>\n",
       "      <td>-0.703300</td>\n",
       "      <td>-1.002838</td>\n",
       "    </tr>\n",
       "    <tr>\n",
       "      <th>8</th>\n",
       "      <td>-1.000416</td>\n",
       "      <td>-0.703300</td>\n",
       "      <td>-0.969804</td>\n",
       "    </tr>\n",
       "    <tr>\n",
       "      <th>9</th>\n",
       "      <td>-0.967338</td>\n",
       "      <td>-0.561326</td>\n",
       "      <td>-0.976411</td>\n",
       "    </tr>\n",
       "  </tbody>\n",
       "</table>\n",
       "</div>"
      ],
      "text/plain": [
       "        cnt    casual  registered\n",
       "0 -0.956312 -0.662736   -0.930162\n",
       "1 -0.823998 -0.561326   -0.804632\n",
       "2 -0.868103 -0.622172   -0.837666\n",
       "3 -0.972851 -0.662736   -0.949983\n",
       "4 -1.039008 -0.723582   -1.009445\n",
       "5 -1.039008 -0.723582   -1.009445\n",
       "6 -1.033495 -0.683018   -1.016052\n",
       "7 -1.027981 -0.703300   -1.002838\n",
       "8 -1.000416 -0.703300   -0.969804\n",
       "9 -0.967338 -0.561326   -0.976411"
      ]
     },
     "execution_count": 182,
     "metadata": {},
     "output_type": "execute_result"
    }
   ],
   "source": [
    "targets.head(10)"
   ]
  },
  {
   "cell_type": "code",
   "execution_count": 183,
   "metadata": {
    "collapsed": true
   },
   "outputs": [],
   "source": [
    "# Hold out the last 60 days or so of the remaining data as a validation set\n",
    "train_features, train_targets = features[:-60*24], targets[:-60*24]\n",
    "val_features, val_targets = features[-60*24:], targets[-60*24:]"
   ]
  },
  {
   "cell_type": "code",
   "execution_count": 184,
   "metadata": {
    "collapsed": false
   },
   "outputs": [
    {
     "name": "stdout",
     "output_type": "stream",
     "text": [
      "(15435, 56)\n",
      "(15435, 3)\n",
      "(1440, 56)\n",
      "(1440, 3)\n"
     ]
    }
   ],
   "source": [
    "print(train_features.shape)\n",
    "print(train_targets.shape)\n",
    "print(val_features.shape)\n",
    "print(val_targets.shape)\n",
    "\n",
    "#train_features.head()"
   ]
  },
  {
   "cell_type": "markdown",
   "metadata": {},
   "source": [
    "## Time to build the network\n",
    "\n",
    "Below you'll build your network. We've built out the structure. You'll implement both the forward pass and backwards pass through the network. You'll also set the hyperparameters: the learning rate, the number of hidden units, and the number of training passes.\n",
    "\n",
    "<img src=\"assets/neural_network.png\" width=300px>\n",
    "\n",
    "The network has two layers, a hidden layer and an output layer. The hidden layer will use the sigmoid function for activations. The output layer has only one node and is used for the regression, the output of the node is the same as the input of the node. That is, the activation function is $f(x)=x$. A function that takes the input signal and generates an output signal, but takes into account the threshold, is called an activation function. We work through each layer of our network calculating the outputs for each neuron. All of the outputs from one layer become inputs to the neurons on the next layer. This process is called *forward propagation*.\n",
    "\n",
    "We use the weights to propagate signals forward from the input to the output layers in a neural network. We use the weights to also propagate error backwards from the output back into the network to update our weights. This is called *backpropagation*.\n",
    "\n",
    "> **Hint:** You'll need the derivative of the output activation function ($f(x) = x$) for the backpropagation implementation. If you aren't familiar with calculus, this function is equivalent to the equation $y = x$. What is the slope of that equation? That is the derivative of $f(x)$.\n",
    "\n",
    "Below, you have these tasks:\n",
    "1. Implement the sigmoid function to use as the activation function. Set `self.activation_function` in `__init__` to your sigmoid function.\n",
    "2. Implement the forward pass in the `train` method.\n",
    "3. Implement the backpropagation algorithm in the `train` method, including calculating the output error.\n",
    "4. Implement the forward pass in the `run` method.\n",
    "  "
   ]
  },
  {
   "cell_type": "code",
   "execution_count": 185,
   "metadata": {
    "collapsed": true
   },
   "outputs": [],
   "source": [
    "#############\n",
    "# In the my_answers.py file, fill out the TODO sections as specified\n",
    "#############\n",
    "\n",
    "from my_answers import NeuralNetwork"
   ]
  },
  {
   "cell_type": "code",
   "execution_count": 186,
   "metadata": {
    "collapsed": true
   },
   "outputs": [],
   "source": [
    "def MSE(y, Y):\n",
    "    return np.mean((y-Y)**2)"
   ]
  },
  {
   "cell_type": "markdown",
   "metadata": {},
   "source": [
    "## Unit tests\n",
    "\n",
    "Run these unit tests to check the correctness of your network implementation. This will help you be sure your network was implemented correctly befor you starting trying to train it. These tests must all be successful to pass the project."
   ]
  },
  {
   "cell_type": "code",
   "execution_count": 187,
   "metadata": {
    "collapsed": false
   },
   "outputs": [
    {
     "name": "stderr",
     "output_type": "stream",
     "text": [
      ".....\n",
      "----------------------------------------------------------------------\n",
      "Ran 5 tests in 0.006s\n",
      "\n",
      "OK\n"
     ]
    },
    {
     "data": {
      "text/plain": [
       "<unittest.runner.TextTestResult run=5 errors=0 failures=0>"
      ]
     },
     "execution_count": 187,
     "metadata": {},
     "output_type": "execute_result"
    }
   ],
   "source": [
    "import unittest\n",
    "\n",
    "inputs = np.array([[0.5, -0.2, 0.1]])\n",
    "targets = np.array([[0.4]])\n",
    "test_w_i_h = np.array([[0.1, -0.2],\n",
    "                       [0.4, 0.5],\n",
    "                       [-0.3, 0.2]])\n",
    "test_w_h_o = np.array([[0.3],\n",
    "                       [-0.1]])\n",
    "\n",
    "class TestMethods(unittest.TestCase):\n",
    "    \n",
    "    ##########\n",
    "    # Unit tests for data loading\n",
    "    ##########\n",
    "    \n",
    "    def test_data_path(self):\n",
    "        # Test that file path to dataset has been unaltered\n",
    "        self.assertTrue(data_path.lower() == 'bike-sharing-dataset/hour.csv')\n",
    "        \n",
    "    def test_data_loaded(self):\n",
    "        # Test that data frame loaded\n",
    "        self.assertTrue(isinstance(rides, pd.DataFrame))\n",
    "    \n",
    "    ##########\n",
    "    # Unit tests for network functionality\n",
    "    ##########\n",
    "\n",
    "    def test_activation(self):\n",
    "        network = NeuralNetwork(3, 2, 1, 0.5)\n",
    "        # Test that the activation function is a sigmoid\n",
    "        self.assertTrue(np.all(network.activation_function(0.5) == 1/(1+np.exp(-0.5))))\n",
    "\n",
    "    def test_train(self):\n",
    "        # Test that weights are updated correctly on training\n",
    "        network = NeuralNetwork(3, 2, 1, 0.5)\n",
    "        network.weights_input_to_hidden = test_w_i_h.copy()\n",
    "        network.weights_hidden_to_output = test_w_h_o.copy()\n",
    "        \n",
    "        network.train(inputs, targets)\n",
    "        self.assertTrue(np.allclose(network.weights_hidden_to_output, \n",
    "                                    np.array([[ 0.37275328], \n",
    "                                              [-0.03172939]])))\n",
    "        self.assertTrue(np.allclose(network.weights_input_to_hidden,\n",
    "                                    np.array([[ 0.10562014, -0.20185996], \n",
    "                                              [0.39775194, 0.50074398], \n",
    "                                              [-0.29887597, 0.19962801]])))\n",
    "\n",
    "    def test_run(self):\n",
    "        # Test correctness of run method\n",
    "        network = NeuralNetwork(3, 2, 1, 0.5)\n",
    "        network.weights_input_to_hidden = test_w_i_h.copy()\n",
    "        network.weights_hidden_to_output = test_w_h_o.copy()\n",
    "\n",
    "        self.assertTrue(np.allclose(network.run(inputs), 0.09998924))\n",
    "\n",
    "suite = unittest.TestLoader().loadTestsFromModule(TestMethods())\n",
    "unittest.TextTestRunner().run(suite)"
   ]
  },
  {
   "cell_type": "markdown",
   "metadata": {},
   "source": [
    "## Training the network\n",
    "\n",
    "Here you'll set the hyperparameters for the network. The strategy here is to find hyperparameters such that the error on the training set is low, but you're not overfitting to the data. If you train the network too long or have too many hidden nodes, it can become overly specific to the training set and will fail to generalize to the validation set. That is, the loss on the validation set will start increasing as the training set loss drops.\n",
    "\n",
    "You'll also be using a method know as Stochastic Gradient Descent (SGD) to train the network. The idea is that for each training pass, you grab a random sample of the data instead of using the whole data set. You use many more training passes than with normal gradient descent, but each pass is much faster. This ends up training the network more efficiently. You'll learn more about SGD later.\n",
    "\n",
    "### Choose the number of iterations\n",
    "This is the number of batches of samples from the training data we'll use to train the network. The more iterations you use, the better the model will fit the data. However, this process can have sharply diminishing returns and can waste computational resources if you use too many iterations.  You want to find a number here where the network has a low training loss, and the validation loss is at a minimum. The ideal number of iterations would be a level that stops shortly after the validation loss is no longer decreasing.\n",
    "\n",
    "### Choose the learning rate\n",
    "This scales the size of weight updates. If this is too big, the weights tend to explode and the network fails to fit the data. Normally a good choice to start at is 0.1; however, if you effectively divide the learning rate by n_records, try starting out with a learning rate of 1. In either case, if the network has problems fitting the data, try reducing the learning rate. Note that the lower the learning rate, the smaller the steps are in the weight updates and the longer it takes for the neural network to converge.\n",
    "\n",
    "### Choose the number of hidden nodes\n",
    "In a model where all the weights are optimized, the more hidden nodes you have, the more accurate the predictions of the model will be.  (A fully optimized model could have weights of zero, after all.) However, the more hidden nodes you have, the harder it will be to optimize the weights of the model, and the more likely it will be that suboptimal weights will lead to overfitting. With overfitting, the model will memorize the training data instead of learning the true pattern, and won't generalize well to unseen data.  \n",
    "\n",
    "Try a few different numbers and see how it affects the performance. You can look at the losses dictionary for a metric of the network performance. If the number of hidden units is too low, then the model won't have enough space to learn and if it is too high there are too many options for the direction that the learning can take. The trick here is to find the right balance in number of hidden units you choose.  You'll generally find that the best number of hidden nodes to use ends up being between the number of input and output nodes."
   ]
  },
  {
   "cell_type": "code",
   "execution_count": 188,
   "metadata": {
    "collapsed": false
   },
   "outputs": [
    {
     "name": "stdout",
     "output_type": "stream",
     "text": [
      "Progress: 0.3% ... Training loss: 0.963 ... Validation loss: 1.538"
     ]
    },
    {
     "name": "stderr",
     "output_type": "stream",
     "text": [
      "/anaconda3/envs/tensorflow/lib/python3.5/site-packages/ipykernel_launcher.py:17: DeprecationWarning: \n",
      ".ix is deprecated. Please use\n",
      ".loc for label based indexing or\n",
      ".iloc for positional indexing\n",
      "\n",
      "See the documentation here:\n",
      "http://pandas.pydata.org/pandas-docs/stable/indexing.html#ix-indexer-is-deprecated\n"
     ]
    },
    {
     "name": "stdout",
     "output_type": "stream",
     "text": [
      "Progress: 100.0% ... Training loss: 0.080 ... Validation loss: 0.166"
     ]
    }
   ],
   "source": [
    "import sys\n",
    "\n",
    "####################\n",
    "### Set the hyperparameters in you myanswers.py file ###\n",
    "####################\n",
    "\n",
    "from my_answers import iterations, learning_rate, hidden_nodes, output_nodes\n",
    "\n",
    "\n",
    "N_i = train_features.shape[1]\n",
    "network = NeuralNetwork(N_i, hidden_nodes, output_nodes, learning_rate)\n",
    "\n",
    "losses = {'train':[], 'validation':[]}\n",
    "for ii in range(iterations):\n",
    "    # Go through a random batch of 128 records from the training data set\n",
    "    batch = np.random.choice(train_features.index, size=128)\n",
    "    X, y = train_features.ix[batch].values, train_targets.ix[batch]['cnt']\n",
    "                             \n",
    "    network.train(X, y)\n",
    "    \n",
    "    # Printing out the training progress\n",
    "    train_loss = MSE(network.run(train_features).T, train_targets['cnt'].values)\n",
    "    val_loss = MSE(network.run(val_features).T, val_targets['cnt'].values)\n",
    "    sys.stdout.write(\"\\rProgress: {:2.1f}\".format(100 * ii/float(iterations)) \\\n",
    "                     + \"% ... Training loss: \" + str(train_loss)[:5] \\\n",
    "                     + \" ... Validation loss: \" + str(val_loss)[:5])\n",
    "    sys.stdout.flush()\n",
    "    \n",
    "    losses['train'].append(train_loss)\n",
    "    losses['validation'].append(val_loss)"
   ]
  },
  {
   "cell_type": "code",
   "execution_count": 189,
   "metadata": {
    "collapsed": false
   },
   "outputs": [
    {
     "data": {
      "image/png": "[encoded data removed]",
      "text/plain": [
       "<Figure size 432x288 with 1 Axes>"
      ]
     },
     "metadata": {
      "image/png": {
       "height": 250,
       "width": 370
      },
      "needs_background": "light"
     },
     "output_type": "display_data"
    }
   ],
   "source": [
    "plt.plot(losses['train'], label='Training loss')\n",
    "plt.plot(losses['validation'], label='Validation loss')\n",
    "plt.legend()\n",
    "_ = plt.ylim()"
   ]
  },
  {
   "cell_type": "markdown",
   "metadata": {},
   "source": [
    "## Check out your predictions\n",
    "\n",
    "Here, use the test data to view how well your network is modeling the data. If something is completely wrong here, make sure each step in your network is implemented correctly."
   ]
  },
  {
   "cell_type": "code",
   "execution_count": 190,
   "metadata": {
    "collapsed": false
   },
   "outputs": [
    {
     "name": "stdout",
     "output_type": "stream",
     "text": [
      "189.46308763450142 181.38759909186473\n"
     ]
    }
   ],
   "source": [
    "mean, std = scaled_features['cnt']\n",
    "print(mean, std)"
   ]
  },
  {
   "cell_type": "code",
   "execution_count": 191,
   "metadata": {
    "collapsed": false
   },
   "outputs": [
    {
     "name": "stderr",
     "output_type": "stream",
     "text": [
      "/anaconda3/envs/tensorflow/lib/python3.5/site-packages/ipykernel_launcher.py:10: DeprecationWarning: \n",
      ".ix is deprecated. Please use\n",
      ".loc for label based indexing or\n",
      ".iloc for positional indexing\n",
      "\n",
      "See the documentation here:\n",
      "http://pandas.pydata.org/pandas-docs/stable/indexing.html#ix-indexer-is-deprecated\n",
      "  # Remove the CWD from sys.path while we load stuff.\n"
     ]
    },
    {
     "data": {
      "image/png": "[encoded data removed]",
      "text/plain": [
       "<Figure size 576x288 with 1 Axes>"
      ]
     },
     "metadata": {
      "image/png": {
       "height": 272,
       "width": 502
      },
      "needs_background": "light"
     },
     "output_type": "display_data"
    }
   ],
   "source": [
    "fig, ax = plt.subplots(figsize=(8,4))\n",
    "\n",
    "mean, std = scaled_features['cnt']\n",
    "predictions = network.run(test_features).T*std + mean\n",
    "ax.plot(predictions[0], label='Prediction')\n",
    "ax.plot((test_targets['cnt']*std + mean).values, label='Data')\n",
    "ax.set_xlim(right=len(predictions))\n",
    "ax.legend()\n",
    "\n",
    "dates = pd.to_datetime(rides.ix[test_data.index]['dteday'])\n",
    "dates = dates.apply(lambda d: d.strftime('%b %d'))\n",
    "ax.set_xticks(np.arange(len(dates))[12::24])\n",
    "_ = ax.set_xticklabels(dates[12::24], rotation=45)"
   ]
  },
  {
   "cell_type": "code",
   "execution_count": 192,
   "metadata": {
    "collapsed": false
   },
   "outputs": [
    {
     "data": {
      "text/plain": [
       "array([[ 1.64470760e+02,  1.05742884e+02, -1.22901066e+00,\n",
       "         2.67991157e+01,  2.22647328e+01, -2.48190945e+01,\n",
       "         1.03459080e+01, -3.17631807e-01,  1.42202030e+02,\n",
       "         4.25488108e+02,  6.11834871e+02,  3.38026356e+02,\n",
       "         1.85257589e+02,  1.97007207e+02,  2.33057329e+02,\n",
       "         2.63268888e+02,  2.41301782e+02,  2.60163223e+02,\n",
       "         3.82398009e+02,  6.68636202e+02,  6.36175141e+02,\n",
       "         4.77011665e+02,  3.58279734e+02,  2.70753061e+02,\n",
       "         2.00169248e+02,  1.37668526e+02,  7.21270538e+01,\n",
       "         4.13443228e+01,  3.46936772e+01,  2.57497723e+01,\n",
       "         2.24482611e+01,  5.28739937e+01,  1.45905268e+02,\n",
       "         3.92700989e+02,  5.83274460e+02,  3.20426140e+02,\n",
       "         1.81832030e+02,  2.09752876e+02,  2.77252825e+02,\n",
       "         2.81529896e+02,  2.56146105e+02,  2.70241931e+02,\n",
       "         3.81315967e+02,  6.30287361e+02,  6.01910039e+02,\n",
       "         4.32620537e+02,  3.47746526e+02,  2.51455506e+02,\n",
       "         1.97050530e+02,  1.30001124e+02,  7.19933341e+01,\n",
       "         4.78734738e+01,  3.84751256e+01,  3.12394496e+01,\n",
       "         3.35547815e+01,  5.98407860e+01,  1.65707449e+02,\n",
       "         4.15639333e+02,  6.08145459e+02,  3.36012138e+02,\n",
       "         1.91640629e+02,  2.21477188e+02,  2.74248690e+02,\n",
       "         2.78133168e+02,  2.55829432e+02,  2.73259420e+02,\n",
       "         3.96442037e+02,  6.80751101e+02,  6.45565078e+02,\n",
       "         4.73825074e+02,  3.61737697e+02,  2.66101479e+02,\n",
       "         1.94442052e+02,  1.35614892e+02,  7.08946140e+01,\n",
       "         4.25682484e+01,  3.61698880e+01,  2.53895467e+01,\n",
       "         1.85050510e+01,  3.44827467e+01,  9.49317602e+01,\n",
       "         3.32060654e+02,  5.29412985e+02,  2.77738407e+02,\n",
       "         1.77716840e+02,  2.47379456e+02,  3.15370295e+02,\n",
       "         3.14916987e+02,  3.12625660e+02,  3.23124854e+02,\n",
       "         4.09048050e+02,  6.17627432e+02,  6.14957229e+02,\n",
       "         4.54870018e+02,  3.18864793e+02,  2.14312878e+02,\n",
       "         1.66571959e+02,  1.19879820e+02,  1.10287799e+02,\n",
       "         5.29224561e+01,  5.09396354e+01,  1.97852234e+01,\n",
       "        -2.74703514e+00,  2.13220050e+01,  2.34202686e+01,\n",
       "         5.00691353e+01,  1.39430652e+02,  1.92804598e+02,\n",
       "         3.28274658e+02,  4.01302201e+02,  4.76516698e+02,\n",
       "         4.58937152e+02,  4.71534599e+02,  4.86635642e+02,\n",
       "         4.77913827e+02,  4.33202285e+02,  3.70626464e+02,\n",
       "         3.12358709e+02,  2.24927105e+02,  1.94682645e+02,\n",
       "         1.70535158e+02,  1.48866031e+02,  1.21928000e+02,\n",
       "         4.64962790e+01,  3.97851744e+01,  1.12745990e+01,\n",
       "         5.26175152e+00,  4.61843448e+00,  1.82879309e+01,\n",
       "         4.52710523e+01,  1.36800026e+02,  1.78638938e+02,\n",
       "         2.52068955e+02,  3.05624103e+02,  3.57388203e+02,\n",
       "         3.69211025e+02,  3.68013605e+02,  3.53622973e+02,\n",
       "         3.60253863e+02,  3.12535784e+02,  2.08188634e+02,\n",
       "         2.22428244e+02,  1.78183699e+02,  1.12157512e+02,\n",
       "         1.21790023e+02,  7.15123607e+01,  3.15703162e+01,\n",
       "         6.04451024e+00, -6.19109793e+00, -1.40080444e+01,\n",
       "        -5.45483522e+01,  1.29839400e+01,  9.63456751e+01,\n",
       "         3.30974432e+02,  5.55438552e+02,  2.76393071e+02,\n",
       "         1.48953835e+02,  1.79030310e+02,  2.23292431e+02,\n",
       "         2.11326166e+02,  1.98597702e+02,  2.22285837e+02,\n",
       "         1.81529174e+02,  5.36634796e+02,  5.30456760e+02,\n",
       "         3.95511574e+02,  2.59915101e+02,  1.86095316e+02,\n",
       "         1.38200474e+02,  2.29936929e+01,  2.57683168e+01,\n",
       "         2.27602081e-01, -2.44736981e-01,  5.42285282e+00,\n",
       "         1.27605718e+01,  3.81001056e+01,  1.41102366e+02,\n",
       "         4.02563549e+02,  6.13392412e+02,  3.21768691e+02,\n",
       "         1.91129346e+02,  2.33184165e+02,  2.07391089e+02,\n",
       "         2.99066244e+02,  2.57756352e+02,  2.74950876e+02,\n",
       "         4.17929624e+02,  7.04012776e+02,  6.70251500e+02,\n",
       "         5.00116457e+02,  3.73209672e+02,  2.82864437e+02,\n",
       "         2.16349409e+02,  1.43795711e+02,  6.78272210e+01,\n",
       "         3.96333058e+01,  3.19807281e+01,  2.21184593e+01,\n",
       "         2.22767627e+01,  4.29135787e+01,  1.44795260e+02,\n",
       "         4.02562221e+02,  5.81811565e+02,  3.19347402e+02,\n",
       "         1.90563121e+02,  2.39559153e+02,  2.83746912e+02,\n",
       "         2.94722760e+02,  2.72240617e+02,  2.85327063e+02,\n",
       "         4.15274820e+02,  7.00121503e+02,  6.55945063e+02,\n",
       "         4.94747644e+02,  3.66770273e+02,  2.67697720e+02,\n",
       "         2.09886923e+02,  1.38617959e+02,  7.33846003e+01,\n",
       "         3.97424142e+01,  3.28845542e+01,  2.66283549e+01,\n",
       "         2.78552800e+01,  5.12130115e+01,  1.54494413e+02,\n",
       "         4.00104272e+02,  5.96837767e+02,  3.16584274e+02,\n",
       "         1.82468681e+02,  2.02258752e+02,  2.57881351e+02,\n",
       "         2.53075579e+02,  2.37532273e+02,  2.46077370e+02,\n",
       "         3.51046708e+02,  6.11346326e+02,  5.70159781e+02,\n",
       "         2.98154798e+02,  2.11263123e+02,  1.45478056e+02,\n",
       "         8.93731793e+01,  5.58608901e+01,  2.68071195e+01,\n",
       "         1.04506177e+01, -3.04771168e+00, -1.50780882e+01,\n",
       "         2.82320613e+01,  3.55745107e+01,  9.21721496e+01,\n",
       "         2.65314818e+02,  4.25672022e+02,  2.26011707e+02,\n",
       "         1.67616352e+02,  1.80342456e+02,  2.21860359e+02,\n",
       "         2.20953604e+02,  2.06133117e+02,  2.11869212e+02,\n",
       "         2.67035091e+02,  3.71299808e+02,  3.48073252e+02,\n",
       "         2.98526579e+02,  2.21537089e+02,  1.63309098e+02,\n",
       "         1.28663672e+02,  9.62672985e+01,  7.23210324e+01,\n",
       "         5.97046362e+01,  4.95759426e+01,  3.23250316e+01,\n",
       "         2.42109583e+01,  3.11939530e+01,  2.44489389e+01,\n",
       "         3.95833269e+01,  9.18873158e+01,  1.58334947e+02,\n",
       "         2.33852818e+02,  3.00722787e+02,  3.32096635e+02,\n",
       "         3.58117062e+02,  3.51957044e+02,  3.37445229e+02,\n",
       "         3.24615760e+02,  2.52361333e+02,  1.88973155e+02,\n",
       "         1.59678035e+02,  1.17428111e+02,  8.77906002e+01,\n",
       "         7.25530859e+01,  6.91466187e+01,  5.10234180e+01,\n",
       "         3.68965551e+01,  2.33411272e+01,  8.19889627e+00,\n",
       "        -8.62579005e-01,  2.76998842e+00, -1.58317581e+01,\n",
       "        -4.21336358e+00,  4.34885072e+01,  1.21717381e+02,\n",
       "         1.85041624e+02,  2.51109231e+02,  3.33240821e+02,\n",
       "         3.41045021e+02,  3.49015238e+02,  3.51134066e+02,\n",
       "         3.45271900e+02,  2.51461059e+02,  2.11960184e+02,\n",
       "         2.01711938e+02,  1.10201799e+02,  8.32588320e+01,\n",
       "         6.98123460e+01,  6.55634772e+01,  4.04406606e+01,\n",
       "         1.96980248e+01,  1.40807685e+01,  7.74806418e+00,\n",
       "         6.95074240e+00,  8.27020752e+01,  2.82886039e+02,\n",
       "         4.69768942e+02,  2.16805977e+02,  1.32811678e+02,\n",
       "         1.41270450e+02,  1.80933753e+02,  1.04213965e+02,\n",
       "         8.83439951e+01,  8.88491654e+01,  1.19993149e+02,\n",
       "         2.45424058e+02,  2.37441657e+02,  2.35864113e+02,\n",
       "         9.88834364e+01,  6.01758072e+01,  9.58015678e+01,\n",
       "         2.66459329e+01,  3.13786991e+00,  1.36865078e+01,\n",
       "         9.68943502e+00, -1.10829836e+01, -2.54568720e+01,\n",
       "        -4.09128612e+00,  6.62522813e+01,  2.07026084e+02,\n",
       "         1.41014244e+02,  1.72823648e+02,  2.14569003e+02,\n",
       "         2.50176024e+02,  2.92314771e+02,  2.77465807e+02,\n",
       "         2.69867428e+02,  2.86035283e+02,  2.87679721e+02,\n",
       "         2.45151306e+02,  1.92372625e+02,  1.28892860e+02,\n",
       "         1.03384018e+02,  8.32127452e+01,  5.63874844e+01,\n",
       "         4.81128334e+01,  2.79984157e+01,  2.38915272e+01,\n",
       "         1.12688623e+01,  2.14003121e+01,  2.52114744e+01,\n",
       "         8.84153680e+01,  1.51055247e+02,  3.04002800e+02,\n",
       "         1.31661864e+02,  5.23870906e+01,  4.54831781e+01,\n",
       "         7.04856860e+01,  7.17481747e+01,  6.38250478e+01,\n",
       "         8.34489872e+01,  1.19188146e+02,  2.48249601e+02,\n",
       "         2.47899835e+02,  1.83295091e+02,  1.19783776e+02,\n",
       "         1.42911478e+02,  2.61360439e+01,  2.58366847e+01,\n",
       "         1.04822656e+01, -2.08839056e+01,  1.15445543e+01,\n",
       "         1.78144347e+01,  1.45219221e+01,  4.13436651e+01,\n",
       "         1.10496593e+02,  3.26234481e+02,  5.05919688e+02,\n",
       "         2.46856348e+02,  1.31346342e+02,  1.30612615e+02,\n",
       "         1.86681415e+02,  1.87054035e+02,  1.37651948e+02,\n",
       "         1.55759700e+02,  2.33152874e+02,  4.33589302e+02,\n",
       "         3.93722951e+02,  3.10904312e+02,  2.38060984e+02,\n",
       "         1.59825349e+02,  1.20557749e+02,  8.69989236e+01,\n",
       "         5.91427162e+01,  4.53359430e+01,  4.07996887e+01,\n",
       "         2.94160487e+01,  2.64979810e+01,  4.09832958e+01,\n",
       "         8.73230759e+01,  2.60074642e+02,  4.02016312e+02,\n",
       "         2.08229976e+02,  1.48320064e+02,  1.79075900e+02,\n",
       "         2.26933515e+02,  2.30340113e+02,  2.17328312e+02,\n",
       "         2.36394100e+02,  2.93298416e+02,  4.07726846e+02,\n",
       "         3.83793448e+02,  2.45830797e+02,  1.84920958e+02,\n",
       "         1.38823812e+02,  1.13845016e+02,  8.81054732e+01,\n",
       "         6.69225068e+01,  4.56083853e+01,  4.37890819e+01,\n",
       "         2.44359539e+01,  1.29018345e+01,  1.54301517e+01,\n",
       "         1.94773541e+01,  3.09861136e+01,  8.82955331e+01,\n",
       "         1.45771758e+02,  1.43758405e+02,  1.32412742e+02,\n",
       "         1.49286003e+02,  1.43573457e+02,  2.44585271e+02,\n",
       "         2.52244362e+02,  3.13506889e+02,  2.19451125e+02,\n",
       "         2.15647849e+02,  1.76341552e+02,  1.06814039e+02,\n",
       "         9.12641913e+01,  6.81393098e+01,  8.24809302e+01,\n",
       "         6.24412126e+01,  3.87963951e+01,  3.60285690e+01,\n",
       "         1.43953365e+01,  9.78795715e+00,  2.13360661e+01,\n",
       "        -5.80180405e-01,  1.57687668e+01,  6.81072058e+01,\n",
       "         1.28215947e+02,  1.90908448e+02,  2.53070400e+02,\n",
       "         2.92571991e+02,  2.91826082e+02,  3.06387968e+02,\n",
       "         2.97071387e+02,  2.83895734e+02,  2.07609327e+02,\n",
       "         1.52776938e+02,  2.10240860e+02,  7.88309873e+01,\n",
       "         6.72458491e+01,  5.11993047e+01,  4.52699096e+01,\n",
       "         3.21486072e+01,  1.35038462e+01,  7.67620495e+00,\n",
       "         1.85204005e+00, -6.51978896e-01,  9.29498347e+00,\n",
       "         7.56326237e+01,  2.68984172e+02,  4.35940301e+02,\n",
       "         2.02606880e+02,  1.10795976e+02,  1.28405201e+02,\n",
       "         1.62032030e+02,  1.79235358e+02,  1.68191560e+02,\n",
       "         1.84589091e+02,  2.36042064e+02,  4.38260822e+02,\n",
       "         4.05760102e+02,  2.78795224e+02,  2.02316328e+02,\n",
       "         1.65081193e+02,  1.25095536e+02,  8.66036558e+01]])"
      ]
     },
     "execution_count": 192,
     "metadata": {},
     "output_type": "execute_result"
    }
   ],
   "source": [
    "predictions"
   ]
  },
  {
   "cell_type": "code",
   "execution_count": 193,
   "metadata": {
    "collapsed": false
   },
   "outputs": [
    {
     "data": {
      "text/plain": [
       "array([[105.74288354,  -1.22901066]])"
      ]
     },
     "execution_count": 193,
     "metadata": {},
     "output_type": "execute_result"
    }
   ],
   "source": [
    "predictions[:,1:3]"
   ]
  },
  {
   "cell_type": "markdown",
   "metadata": {},
   "source": [
    "## OPTIONAL: Thinking about your results(this question will not be evaluated in the rubric).\n",
    " \n",
    "Answer these questions about your results. How well does the model predict the data? Where does it fail? Why does it fail where it does?\n",
    "\n",
    "> **Note:** You can edit the text in this cell by double clicking on it. When you want to render the text, press control + enter\n",
    "\n",
    "#### Your answer below\n",
    "The model predicts the data with very good accuracy with Training loss: 0.072 and Validation loss: 0.151 using the following hyperparameters: iterations = 3500, learning_rate = 0.5, hidden_nodes = 25.  The hyperparameters has a big impact on the predicted accuracy- increasing the number of iteration would better fit the model but its a tradeoff between good fit and computational resources, the learning rate is small enough for the weight updates to converge and find the local minima or local optima, hidden nodes affect the complexity of the model, less hidden nodes (less complex model) has the tendency of underfitting because of the complexity of the data, so the number of hidden nodes has to be hight enough not to overfit and to better match the complexity of the data so the choosen hyperparamters above is the sweet spot for an acceptable accuracy.  The model will fail and tend to produce high errors when the number of iteration is low (around hundreds), learning rate is high and hidden nodes is low.\n"
   ]
  },
  {
   "cell_type": "code",
   "execution_count": null,
   "metadata": {
    "collapsed": true
   },
   "outputs": [],
   "source": []
  }
 ],
 "metadata": {
  "anaconda-cloud": {},
  "kernelspec": {
   "display_name": "tensorflow",
   "language": "python",
   "name": "tensorflow"
  },
  "language_info": {
   "codemirror_mode": {
    "name": "ipython",
    "version": 3
   },
   "file_extension": ".py",
   "mimetype": "text/x-python",
   "name": "python",
   "nbconvert_exporter": "python",
   "pygments_lexer": "ipython3",
   "version": "3.5.6"
  }
 },
 "nbformat": 4,
 "nbformat_minor": 2
}
